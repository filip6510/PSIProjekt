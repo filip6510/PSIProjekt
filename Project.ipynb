{
  "nbformat": 4,
  "nbformat_minor": 0,
  "metadata": {
    "colab": {
      "name": "Untitled0.ipynb",
      "provenance": [],
      "authorship_tag": "ABX9TyNg2MXjCoqB5Uf6PyFkyqij",
      "include_colab_link": true
    },
    "kernelspec": {
      "name": "python3",
      "display_name": "Python 3"
    },
    "language_info": {
      "name": "python"
    }
  },
  "cells": [
    {
      "cell_type": "markdown",
      "metadata": {
        "id": "view-in-github",
        "colab_type": "text"
      },
      "source": [
        "<a href=\"https://colab.research.google.com/github/filip6510/PSIProjekt/blob/main/Project.ipynb\" target=\"_parent\"><img src=\"https://colab.research.google.com/assets/colab-badge.svg\" alt=\"Open In Colab\"/></a>"
      ]
    },
    {
      "cell_type": "markdown",
      "metadata": {
        "id": "QneRj2wYHAqb"
      },
      "source": [
        "import bibliotek potrzebnych w projekcie\n"
      ]
    },
    {
      "cell_type": "code",
      "metadata": {
        "id": "75ByVAlNGQ38"
      },
      "source": [
        "import pandas as pd"
      ],
      "execution_count": 26,
      "outputs": []
    },
    {
      "cell_type": "markdown",
      "metadata": {
        "id": "9lWW4GttHRX5"
      },
      "source": [
        "Przetwarzanie danych.\n",
        "\n",
        "\n"
      ]
    },
    {
      "cell_type": "code",
      "metadata": {
        "colab": {
          "base_uri": "https://localhost:8080/"
        },
        "id": "X3aKzTdeONu1",
        "outputId": "0c650b86-512d-41e0-d41a-4e7a5a752bed"
      },
      "source": [
        "data = pd.read_csv('time_series_covid19_confirmed_global.csv');\n",
        "print(data.head());"
      ],
      "execution_count": 44,
      "outputs": [
        {
          "output_type": "stream",
          "text": [
            "  Province/State Country/Region       Lat  ...  6/6/21  6/7/21  6/8/21\n",
            "0            NaN    Afghanistan  33.93911  ...   79224   80841   82326\n",
            "1            NaN        Albania  41.15330  ...  132379  132384  132397\n",
            "2            NaN        Algeria  28.03390  ...  130958  131283  131647\n",
            "3            NaN        Andorra  42.50630  ...   13758   13777   13781\n",
            "4            NaN         Angola -11.20270  ...   35772   35854   36004\n",
            "\n",
            "[5 rows x 508 columns]\n"
          ],
          "name": "stdout"
        }
      ]
    },
    {
      "cell_type": "code",
      "metadata": {
        "id": "buQqossvPB_7"
      },
      "source": [
        "europe = [\"Ukraine\",\n",
        "\"France\",\n",
        "\"Spain\",\n",
        "\"Sweden\",\n",
        "\"Germany\",\n",
        "\"Finland\",\n",
        "\"Norway\",\n",
        "\"Poland\",\n",
        "\"Italy\",\n",
        "\"United Kingdom\",\n",
        "\"Romania\",\n",
        "\"Belarus\",\n",
        "\"Greece\",\n",
        "\"Bulgaria\",\n",
        "\"Iceland\",\n",
        "\"Portugal\",\n",
        "\"Czechia\",\n",
        "\"Denmark\",\n",
        "\"Hungary\",\n",
        "\"Serbia\",\n",
        "\"Austria\",\n",
        "\"Ireland\",\n",
        "\"Lithuania\",\n",
        "\"Latvia\",\n",
        "\"Croatia\",\n",
        "\"Bosnia and Herzegovina\",\n",
        "\"Slovakia\",\n",
        "\"Estonia\",\n",
        "\"Netherlands\",\n",
        "\"Switzerland\",\n",
        "\"Moldova\",\n",
        "\"Belgium\",\n",
        "\"Albania\",\n",
        "\"North Macedonia\",\n",
        "\"Slovenia\",\n",
        "\"Montenegro\",\n",
        "\"Cyprus\",\n",
        "\"Luxembourg\",\n",
        "\"Andorra\",\n",
        "\"Malta\",\n",
        "\"Liechtenstein\",\n",
        "\"Guernsey\",\n",
        "\"San Marino\",\n",
        "\"Gibraltar\",\n",
        "\"Monaco\" \n",
        "]"
      ],
      "execution_count": 45,
      "outputs": []
    },
    {
      "cell_type": "markdown",
      "metadata": {
        "id": "WSOGirBvP0rL"
      },
      "source": [
        "Będziemy sprawdzać tylko państwa w Europie\n",
        "Prowincje nas nie iteresują wiec usuwamy pierwsza kolumnę, nie mają dla nas też znaczenia współżędne geograficzne więc je też usuwamy\n"
      ]
    },
    {
      "cell_type": "code",
      "metadata": {
        "colab": {
          "base_uri": "https://localhost:8080/"
        },
        "id": "VL7bQkMaOxUr",
        "outputId": "aef8a8ef-9abf-441c-e5ac-fefc521cc27e"
      },
      "source": [
        "data = data[data['Country/Region'].isin(europe)];\n",
        "data.drop(data.columns[[0,2,3]], axis=1, inplace=True)\n",
        "print(data);"
      ],
      "execution_count": 46,
      "outputs": [
        {
          "output_type": "stream",
          "text": [
            "     Country/Region  1/22/20  1/23/20  ...   6/6/21   6/7/21   6/8/21\n",
            "1           Albania        0        0  ...   132379   132384   132397\n",
            "3           Andorra        0        0  ...    13758    13777    13781\n",
            "16          Austria        0        0  ...   646800   647079   647322\n",
            "22          Belarus        0        0  ...   399852   400422   401019\n",
            "23          Belgium        0        0  ...  1070802  1071271  1072175\n",
            "..              ...      ...      ...  ...      ...      ...      ...\n",
            "262  United Kingdom        0        0  ...     1598     1598     1598\n",
            "263  United Kingdom        0        0  ...       20       20       20\n",
            "264  United Kingdom        0        0  ...        4        4        4\n",
            "265  United Kingdom        0        0  ...     2421     2421     2421\n",
            "266  United Kingdom        0        0  ...  4516892  4522476  4528442\n",
            "\n",
            "[71 rows x 505 columns]\n"
          ],
          "name": "stdout"
        }
      ]
    },
    {
      "cell_type": "markdown",
      "metadata": {
        "id": "IAAiXviFZsSS"
      },
      "source": [
        "Sumujemy powtarzające się państwa aby dostać dane dotyczące całego kraju zamiast jego regionów\n"
      ]
    },
    {
      "cell_type": "code",
      "metadata": {
        "colab": {
          "base_uri": "https://localhost:8080/"
        },
        "id": "e0YK7bATZ6pr",
        "outputId": "0ad0d276-d043-439c-c4c5-c246be499cdf"
      },
      "source": [
        "data = data.groupby(['Country/Region']).sum()\n",
        "print(data)"
      ],
      "execution_count": 47,
      "outputs": [
        {
          "output_type": "stream",
          "text": [
            "                        1/22/20  1/23/20  1/24/20  ...   6/6/21   6/7/21   6/8/21\n",
            "Country/Region                                     ...                           \n",
            "Albania                       0        0        0  ...   132379   132384   132397\n",
            "Andorra                       0        0        0  ...    13758    13777    13781\n",
            "Austria                       0        0        0  ...   646800   647079   647322\n",
            "Belarus                       0        0        0  ...   399852   400422   401019\n",
            "Belgium                       0        0        0  ...  1070802  1071271  1072175\n",
            "Bosnia and Herzegovina        0        0        0  ...   204304   204410   204455\n",
            "Bulgaria                      0        0        0  ...   419473   419681   419859\n",
            "Croatia                       0        0        0  ...   357565   357608   357786\n",
            "Cyprus                        0        0        0  ...    72779    72859    72919\n",
            "Czechia                       0        0        0  ...  1663517  1663607  1663998\n",
            "Denmark                       0        0        0  ...   287275   287735   288115\n",
            "Estonia                       0        0        0  ...   130119   130156   130242\n",
            "Finland                       0        0        0  ...    93226    93281    93394\n",
            "France                        0        0        2  ...  5774361  5775535  5781556\n",
            "Germany                       0        0        0  ...  3708898  3710342  3712595\n",
            "Greece                        0        0        0  ...   409368   410166   411534\n",
            "Hungary                       0        0        0  ...   806008   806089   806206\n",
            "Iceland                       0        0        0  ...     6555     6555     6555\n",
            "Ireland                       0        0        0  ...   264498   264875   265114\n",
            "Italy                         0        0        0  ...  4232428  4233698  4235592\n",
            "Latvia                        0        0        0  ...   134812   134888   135144\n",
            "Liechtenstein                 0        0        0  ...     3022     3022     3022\n",
            "Lithuania                     0        0        0  ...   276453   276543   276759\n",
            "Luxembourg                    0        0        0  ...    70182    70256    70291\n",
            "Malta                         0        0        0  ...    30571    30571    30572\n",
            "Moldova                       0        0        0  ...   255453   255501   255541\n",
            "Monaco                        0        0        0  ...     2508     2508     2511\n",
            "Montenegro                    0        0        0  ...    99812    99834    99848\n",
            "Netherlands                   0        0        0  ...  1690481  1691866  1693302\n",
            "North Macedonia               0        0        0  ...   155417   155418   155441\n",
            "Norway                        0        0        0  ...   126817   127066   127254\n",
            "Poland                        0        0        0  ...  2875136  2875328  2875729\n",
            "Portugal                      0        0        0  ...   852646   853034   853632\n",
            "Romania                       0        0        0  ...  1078863  1078952  1079154\n",
            "San Marino                    0        0        0  ...     5090     5090     5090\n",
            "Serbia                        0        0        0  ...   713678   713840   714054\n",
            "Slovakia                      0        0        0  ...   390436   390451   390546\n",
            "Slovenia                      0        0        0  ...   255375   255432   255652\n",
            "Spain                         0        0        0  ...  3697981  3707523  3711027\n",
            "Sweden                        0        0        0  ...  1078062  1078062  1080733\n",
            "Switzerland                   0        0        0  ...   697292   698369   698798\n",
            "Ukraine                       0        0        0  ...  2273708  2274375  2276111\n",
            "United Kingdom                0        0        0  ...  4532802  4538399  4544372\n",
            "\n",
            "[43 rows x 504 columns]\n"
          ],
          "name": "stdout"
        }
      ]
    },
    {
      "cell_type": "markdown",
      "metadata": {
        "id": "-3HnFaPgdUcZ"
      },
      "source": [
        "Chcemy otrzymać dziene przypadki więc przekształcamy dane\n"
      ]
    },
    {
      "cell_type": "code",
      "metadata": {
        "colab": {
          "base_uri": "https://localhost:8080/",
          "height": 202
        },
        "id": "6LZELRlBddma",
        "outputId": "b6c0a08a-c281-478b-9f49-e79a0c4a947a"
      },
      "source": [
        "for index, row in data.iterrows():\n",
        "  for x in range(row.size()):\n",
        "    print(x);"
      ],
      "execution_count": 61,
      "outputs": [
        {
          "output_type": "error",
          "ename": "TypeError",
          "evalue": "ignored",
          "traceback": [
            "\u001b[0;31m---------------------------------------------------------------------------\u001b[0m",
            "\u001b[0;31mTypeError\u001b[0m                                 Traceback (most recent call last)",
            "\u001b[0;32m<ipython-input-61-7ea9ef998381>\u001b[0m in \u001b[0;36m<module>\u001b[0;34m()\u001b[0m\n\u001b[1;32m      1\u001b[0m \u001b[0;32mfor\u001b[0m \u001b[0mindex\u001b[0m\u001b[0;34m,\u001b[0m \u001b[0mrow\u001b[0m \u001b[0;32min\u001b[0m \u001b[0mdata\u001b[0m\u001b[0;34m.\u001b[0m\u001b[0miterrows\u001b[0m\u001b[0;34m(\u001b[0m\u001b[0;34m)\u001b[0m\u001b[0;34m:\u001b[0m\u001b[0;34m\u001b[0m\u001b[0;34m\u001b[0m\u001b[0m\n\u001b[0;32m----> 2\u001b[0;31m   \u001b[0;32mfor\u001b[0m \u001b[0mx\u001b[0m \u001b[0;32min\u001b[0m \u001b[0mrange\u001b[0m \u001b[0;34m(\u001b[0m\u001b[0mrow\u001b[0m\u001b[0;34m.\u001b[0m\u001b[0msize\u001b[0m\u001b[0;34m(\u001b[0m\u001b[0;34m)\u001b[0m\u001b[0;34m)\u001b[0m\u001b[0;34m:\u001b[0m\u001b[0;34m\u001b[0m\u001b[0;34m\u001b[0m\u001b[0m\n\u001b[0m\u001b[1;32m      3\u001b[0m     \u001b[0mprint\u001b[0m\u001b[0;34m(\u001b[0m\u001b[0mx\u001b[0m\u001b[0;34m)\u001b[0m\u001b[0;34m;\u001b[0m\u001b[0;34m\u001b[0m\u001b[0;34m\u001b[0m\u001b[0m\n",
            "\u001b[0;31mTypeError\u001b[0m: 'int' object is not callable"
          ]
        }
      ]
    }
  ]
}